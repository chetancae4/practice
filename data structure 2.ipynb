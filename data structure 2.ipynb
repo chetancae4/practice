{
 "cells": [
  {
   "cell_type": "code",
   "execution_count": 69,
   "metadata": {},
   "outputs": [
    {
     "name": "stdout",
     "output_type": "stream",
     "text": [
      "{\"tom\": {\"name\": \"tom\", \"add\": \"chittavali chowk\", \"phone\": 104949949}, \"bob\": {\"name\": \"bob\", \"add\": \"nagavi chowk\", \"phone\": 1454547335}}\n"
     ]
    }
   ],
   "source": [
    "#working with json (java script object notation),it is a data exchange format\n",
    "book={}\n",
    "book['tom']={\n",
    "    'name':'tom',\n",
    "    'add':'chittavali chowk',\n",
    "    'phone':104949949\n",
    "}\n",
    "book['bob']={\n",
    "    'name':'bob',\n",
    "    'add':'nagavi chowk',\n",
    "    'phone':1454547335\n",
    "}\n",
    "\n",
    "import json\n",
    "s=json.dumps(book)   #it is taking as dictionary and dumping as a string then it converts it into json module\n",
    "print(s)\n",
    "\n"
   ]
  },
  {
   "cell_type": "code",
   "execution_count": 74,
   "metadata": {},
   "outputs": [],
   "source": [
    "with open (\"C://Users//HOME//book.txt\",\"w\") as f:\n",
    "    f.write(s)"
   ]
  },
  {
   "cell_type": "code",
   "execution_count": null,
   "metadata": {},
   "outputs": [],
   "source": [
    "#go and check in that folder it is created"
   ]
  },
  {
   "cell_type": "code",
   "execution_count": null,
   "metadata": {},
   "outputs": [],
   "source": []
  },
  {
   "cell_type": "code",
   "execution_count": null,
   "metadata": {},
   "outputs": [],
   "source": []
  },
  {
   "cell_type": "code",
   "execution_count": null,
   "metadata": {},
   "outputs": [],
   "source": []
  },
  {
   "cell_type": "code",
   "execution_count": null,
   "metadata": {},
   "outputs": [],
   "source": []
  },
  {
   "cell_type": "code",
   "execution_count": null,
   "metadata": {},
   "outputs": [],
   "source": []
  }
 ],
 "metadata": {
  "kernelspec": {
   "display_name": "Python 3",
   "language": "python",
   "name": "python3"
  },
  "language_info": {
   "codemirror_mode": {
    "name": "ipython",
    "version": 3
   },
   "file_extension": ".py",
   "mimetype": "text/x-python",
   "name": "python",
   "nbconvert_exporter": "python",
   "pygments_lexer": "ipython3",
   "version": "3.8.2"
  }
 },
 "nbformat": 4,
 "nbformat_minor": 4
}
