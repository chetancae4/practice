{
 "cells": [
  {
   "cell_type": "code",
   "execution_count": 1,
   "metadata": {},
   "outputs": [],
   "source": [
    "#let us consider i wrote a function and if my fraind needs that function  i can share the code by making its module\n",
    "#fr making module there will be no functional calls and jupyter extension is not .py it is ipymb so we have to change\n",
    "#goto file->download as->python(py)\n",
    "#functions \n",
    "#1 no argument no return type\n",
    "def function1():\n",
    "    print(\"hello knowledge shelf\")\n"
   ]
  },
  {
   "cell_type": "code",
   "execution_count": 2,
   "metadata": {},
   "outputs": [],
   "source": [
    "def add():\n",
    "    var1=int(input(\"enter the value of num1\"))\n",
    "    var2=int(input(\"enter the value of num2\"))\n",
    "    var3=var1+var2\n",
    "    print(\"sum\",var3)\n",
    "    "
   ]
  },
  {
   "cell_type": "code",
   "execution_count": 3,
   "metadata": {},
   "outputs": [],
   "source": [
    "#with arg and no return type\n",
    "def sub(var1,var2):\n",
    "    var3=var1-var2\n",
    "    print(\"sub= \",var3)\n",
    "\n"
   ]
  },
  {
   "cell_type": "code",
   "execution_count": 4,
   "metadata": {},
   "outputs": [],
   "source": [
    "#no arg with return type\n",
    "def multiply():\n",
    "    var1=int(input(\"enter the value of num1\"))\n",
    "    var2=int(input(\"enter the value of num2\"))\n",
    "    var3=var1*var2\n",
    "    return var3\n",
    "\n"
   ]
  },
  {
   "cell_type": "code",
   "execution_count": 5,
   "metadata": {},
   "outputs": [],
   "source": [
    "#with arg and with return type\n",
    "def div(var1,var2):\n",
    "    var3=var1/var2\n",
    "    return var3\n",
    "\n",
    "    "
   ]
  },
  {
   "cell_type": "code",
   "execution_count": null,
   "metadata": {},
   "outputs": [],
   "source": []
  }
 ],
 "metadata": {
  "kernelspec": {
   "display_name": "Python 3",
   "language": "python",
   "name": "python3"
  },
  "language_info": {
   "codemirror_mode": {
    "name": "ipython",
    "version": 3
   },
   "file_extension": ".py",
   "mimetype": "text/x-python",
   "name": "python",
   "nbconvert_exporter": "python",
   "pygments_lexer": "ipython3",
   "version": "3.8.2"
  }
 },
 "nbformat": 4,
 "nbformat_minor": 4
}
